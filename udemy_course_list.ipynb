{
 "cells": [
  {
   "cell_type": "code",
   "execution_count": 127,
   "id": "c0e80b0a",
   "metadata": {},
   "outputs": [],
   "source": [
    "from io import StringIO\n",
    "\n",
    "from pdfminer.converter import TextConverter\n",
    "from pdfminer.layout import LAParams\n",
    "from pdfminer.pdfdocument import PDFDocument\n",
    "from pdfminer.pdfinterp import PDFResourceManager, PDFPageInterpreter\n",
    "from pdfminer.pdfpage import PDFPage\n",
    "from pdfminer.pdfparser import PDFParser"
   ]
  },
  {
   "cell_type": "code",
   "execution_count": null,
   "id": "1a55b815",
   "metadata": {},
   "outputs": [],
   "source": [
    "!wget https://info.udemy.com/rs/udemy/images/UdemyforBusinessCourseList.pdf"
   ]
  },
  {
   "cell_type": "code",
   "execution_count": 128,
   "id": "147ea636",
   "metadata": {},
   "outputs": [],
   "source": [
    "path_to_pdf = \"./UdemyforBusinessCourseList.pdf\"\n",
    "\n",
    "output_string = StringIO()\n",
    "with open(path_to_pdf, 'rb') as in_file:\n",
    "    parser = PDFParser(in_file)\n",
    "    doc = PDFDocument(parser)\n",
    "    rsrcmgr = PDFResourceManager()\n",
    "    device = TextConverter(rsrcmgr, output_string, laparams=LAParams())\n",
    "    interpreter = PDFPageInterpreter(rsrcmgr, device)\n",
    "    for page in PDFPage.create_pages(doc):\n",
    "        interpreter.process_page(page)\n",
    "\n",
    "text = output_string.getvalue()"
   ]
  },
  {
   "cell_type": "code",
   "execution_count": 114,
   "id": "ad4f17fd",
   "metadata": {},
   "outputs": [
    {
     "name": "stdout",
     "output_type": "stream",
     "text": [
      "Found 5735 courses\n"
     ]
    }
   ],
   "source": [
    "course_list = []\n",
    "for line in text.split('\\n'):\n",
    "    if line.startswith(\"•\"):\n",
    "        sanitized_line = line.replace(\"•  \", \"\")\n",
    "        course_list.append(sanitized_line)\n",
    "print(f\"Found {len(course_list)} courses\")"
   ]
  },
  {
   "cell_type": "code",
   "execution_count": 177,
   "id": "19702d1f",
   "metadata": {},
   "outputs": [],
   "source": [
    "def search_list_for_topic(search_term):\n",
    "    matches = []\n",
    "    for course in course_list:\n",
    "        if search_term.lower() in course.lower():\n",
    "            matches.append(course)\n",
    "    print(\"************************************\")\n",
    "    print(f'Found {len(matches)} courses matching \"{search_term}\"')\n",
    "    print(\"************************************\\n\")\n",
    "    for course in sorted(matches):\n",
    "        print(f\"• {course}\")"
   ]
  },
  {
   "cell_type": "code",
   "execution_count": 178,
   "id": "2292d94e",
   "metadata": {},
   "outputs": [
    {
     "name": "stdout",
     "output_type": "stream",
     "text": [
      "************************************\n",
      "Found 28 courses matching \"spark\"\n",
      "************************************\n",
      "\n",
      "• A Big Data Hadoop and Spark project for absolute beginners\n",
      "• Apache Spark 2.0 with Java -Learn Spark from a Big Data Guru\n",
      "• Apache Spark 3 - Real-time Stream Processing using Python\n",
      "• Apache Spark 3 - Real-time Stream Processing using Scala\n",
      "• Apache Spark 3 - Spark Programming in Python for Beginners\n",
      "• Apache Spark 3 - Spark Programming in Scala for Beginners\n",
      "• Apache Spark for Java Developers\n",
      "• Apache Spark with Scala - Hands On with Big Data!\n",
      "• Big Data with Apache Spark and AWS\n",
      "• CCA 131 - Cloudera Certified Hadoop and Spark Administrator\n",
      "• CCA 175 - Spark and Hadoop Developer - Python (pyspark)\n",
      "• CCA 175 - Spark and Hadoop Developer Certification - Scala\n",
      "• CCA 175 Spark and Hadoop Developer - Practice Tests\n",
      "• Databricks Essentials for Spark Developers (Azure and AWS)\n",
      "• From 0 to 1 : Spark for Data Science with Python\n",
      "• HDPCD:Spark using Scala\n",
      "• Master Apache Spark - Hands On!\n",
      "• Master Big Data - Apache Spark/Hadoop/Sqoop/Hive/Flume\n",
      "• Real-time Credit card Fraud Detection using Spark 2.2\n",
      "• Scala and Spark for Big Data and Machine Learning\n",
      "• Scalable programming with Scala and Spark\n",
      "• Spark 3.0 & Big Data Essentials with Scala | Rock the JVM\n",
      "• Spark Project on Cloudera Hadoop(CDH) and GCP for Beginners\n",
      "• Spark Scala coding framework, testing, Structured streaming\n",
      "• Spark Streaming 3.0 with Scala | Rock the JVM\n",
      "• Spark and Python for Big Data with PySpark\n",
      "• Streaming Big Data with Spark Streaming and Scala - Hands On\n",
      "• Taming Big Data with Apache Spark and Python - Hands On!\n"
     ]
    }
   ],
   "source": [
    "search_list_for_topic(\"spark\")"
   ]
  },
  {
   "cell_type": "code",
   "execution_count": 179,
   "id": "cd4c1cf8",
   "metadata": {},
   "outputs": [
    {
     "name": "stdout",
     "output_type": "stream",
     "text": [
      "************************************\n",
      "Found 32 courses matching \"scala\"\n",
      "************************************\n",
      "\n",
      "• Advanced Scala and Functional Programming | Rock the JVM\n",
      "• Akka Essentials with Scala | Rock the JVM\n",
      "• Akka HTTP with Scala | Rock the JVM\n",
      "• Akka Persistence with Scala | Rock the JVM\n",
      "• Akka Remoting and Clustering with Scala | Rock the JVM\n",
      "• Akka Serialization with Scala | Rock the JVM\n",
      "• Akka Streams with Scala | Rock the JVM\n",
      "• Apache Spark 3 - Real-time Stream Processing using Scala\n",
      "• Apache Spark 3 - Spark Programming in Scala for Beginners\n",
      "• Apache Spark with Scala - Hands On with Big Data!\n",
      "• CCA 175 - Spark and Hadoop Developer Certification - Scala\n",
      "• Escalate Scala Training - Setup Instructions\n",
      "• HDPCD:Spark using Scala\n",
      "• Linux Privilege Escalation for Beginners\n",
      "• Linux Privilege Escalation for OSCP & Beyond!\n",
      "• Microservices: Designing Highly Scalable Systems\n",
      "• Scala & Functional Programming for Beginners | Rock the JVM\n",
      "• Scala Advanced, Part 1 - The Scala Type System\n",
      "• Scala Advanced, Part 2 - Best Practices, Async, Serializing\n",
      "• Scala Applied, Part 1\n",
      "• Scala Applied, Part 2\n",
      "• Scala Applied, Part 3\n",
      "• Scala and Spark for Big Data and Machine Learning\n",
      "• Scalable Web Applications with Python, Flask, and SQLAlchemy\n",
      "• Scalable programming with Scala and Spark\n",
      "• Spark 3.0 & Big Data Essentials with Scala | Rock the JVM\n",
      "• Spark Scala coding framework, testing, Structured streaming\n",
      "• Spark Streaming 3.0 with Scala | Rock the JVM\n",
      "• Step by Step: Highly Available, Scalable & Secure AWS Stack\n",
      "• Streaming Big Data with Spark Streaming and Scala - Hands On\n",
      "• Windows Privilege Escalation for Beginners\n",
      "• Windows Privilege Escalation for OSCP & Beyond!\n"
     ]
    }
   ],
   "source": [
    "search_list_for_topic(\"scala\")"
   ]
  },
  {
   "cell_type": "code",
   "execution_count": 180,
   "id": "78acb548",
   "metadata": {},
   "outputs": [
    {
     "name": "stdout",
     "output_type": "stream",
     "text": [
      "************************************\n",
      "Found 14 courses matching \"kafka\"\n",
      "************************************\n",
      "\n",
      "• Apache Kafka - Real-time Stream Processing (Master Class)\n",
      "• Apache Kafka Series - Confluent Schema Registry & REST Proxy\n",
      "• Apache Kafka Series - KSQL on ksqlDB for Stream Processing !\n",
      "• Apache Kafka Series - Kafka Cluster Setup & Administration\n",
      "• Apache Kafka Series - Kafka Connect Hands-on Learning\n",
      "• Apache Kafka Series - Kafka Monitoring & Operations\n",
      "• Apache Kafka Series - Kafka Security | SSL SASL Kerberos ACL\n",
      "• Apache Kafka Series - Kafka Streams for Data Processing\n",
      "• Apache Kafka Series - Learn Apache Kafka for Beginners v2\n",
      "• Apache Kafka for Developers using Spring Boot[LatestEdition]\n",
      "• Apache Kafka for absolute beginners\n",
      "• CCDAK Confluent Certified Developer for Apache Kafka TESTS\n",
      "• CCOAK Confluent Certified Operator for Apache Kafka PRACTICE\n",
      "• Kafka & Kafka Stream With Java Spring Boot - Hands-on Coding\n"
     ]
    }
   ],
   "source": [
    "search_list_for_topic(\"kafka\")"
   ]
  },
  {
   "cell_type": "code",
   "execution_count": 181,
   "id": "650ff191",
   "metadata": {},
   "outputs": [
    {
     "name": "stdout",
     "output_type": "stream",
     "text": [
      "************************************\n",
      "Found 8 courses matching \"eks\"\n",
      "************************************\n",
      "\n",
      "• AWS EKS Kubernetes-Masterclass | DevOps, Microservices\n",
      "• Advanced Options Concepts - Probability, Greeks, Simulation\n",
      "• Amazon EKS Starter: Docker on AWS EKS with Kubernetes\n",
      "• Apache Airflow on AWS EKS: The Hands-On Guide\n",
      "• Chinese In 9 Weeks | Introduction Course\n",
      "• Complete AWS EKS MasterClass (best practices) in 2021\n",
      "• Git for Geeks: Quick Git Training for Developers\n",
      "• Rocking Kubernetes with Amazon EKS, Fargate, And DevOps\n"
     ]
    }
   ],
   "source": [
    "search_list_for_topic(\"eks\")"
   ]
  },
  {
   "cell_type": "code",
   "execution_count": 182,
   "id": "927d2dc3",
   "metadata": {},
   "outputs": [
    {
     "name": "stdout",
     "output_type": "stream",
     "text": [
      "************************************\n",
      "Found 22 courses matching \"terraform\"\n",
      "************************************\n",
      "\n",
      "• Automating Enterprise Infrastructure - Terraform and Packer\n",
      "• Azure Kubernetes Service with Azure DevOps and Terraform\n",
      "• Building Cloud Infrastructure with Terraform\n",
      "• Deploy Fargate ECS Apps & Infrastructure: AWS with Terraform\n",
      "• DevOps Deployment Automation with Terraform, AWS and Docker\n",
      "• HashiCorp Certified: Terraform Associate 2021\n",
      "• HashiCorp Certified: Terraform Associate Practice Exam 2021\n",
      "• HashiCorp Certified: Terraform Associate Practice Exam 2021\n",
      "• HashiCorp Certified: Terraform Associate Prep Course 2020\n",
      "• Hashicorp Certified: Terraform Associate 2021\n",
      "• Infrastructure Automation with Terraform 0.14 on Azure\n",
      "• Learn DevOps: Infrastructure Automation With Terraform\n",
      "• Learn Terraform v12, v13, v14 on Azure DevOps & Automation\n",
      "• Mastering Terraform - Integrating with Jenkins and Ansible\n",
      "• More than Certified in Terraform\n",
      "• Terraform Beginner to Advanced - Using Google Cloud Platform\n",
      "• Terraform Master Course | HashiCorp Certified Terraform 2021\n",
      "• Terraform Version 0.12 - Complete Guide on Microsoft Azure\n",
      "• Terraform for AWS - Beginner to Expert 2020 (0.12)\n",
      "• Terraform on Azure\n",
      "• Ultimate Terraform course for DevOps : Beginner to advanced\n",
      "• VPC Solutions with EC2 for Production: AWS with Terraform\n"
     ]
    }
   ],
   "source": [
    "search_list_for_topic(\"terraform\")"
   ]
  },
  {
   "cell_type": "code",
   "execution_count": 183,
   "id": "4d143ce4",
   "metadata": {},
   "outputs": [
    {
     "name": "stdout",
     "output_type": "stream",
     "text": [
      "************************************\n",
      "Found 2 courses matching \"redshift\"\n",
      "************************************\n",
      "\n",
      "• Mastering AWS Glue, QuickSight, Athena & Redshift Spectrum\n",
      "• Mastering Amazon Redshift 2021 Development & Administration\n"
     ]
    }
   ],
   "source": [
    "search_list_for_topic(\"redshift\")"
   ]
  },
  {
   "cell_type": "code",
   "execution_count": 184,
   "id": "b6df4a08",
   "metadata": {},
   "outputs": [
    {
     "name": "stdout",
     "output_type": "stream",
     "text": [
      "************************************\n",
      "Found 4 courses matching \"airflow\"\n",
      "************************************\n",
      "\n",
      "• Apache Airflow on AWS EKS: The Hands-On Guide\n",
      "• Apache Airflow | A Real-Time & Hands-On Course on Airflow\n",
      "• Apache Airflow: The Hands-On Guide\n",
      "• The Complete Hands-On Introduction to Apache Airflow\n"
     ]
    }
   ],
   "source": [
    "search_list_for_topic(\"airflow\")"
   ]
  },
  {
   "cell_type": "code",
   "execution_count": 185,
   "id": "c6d28131",
   "metadata": {},
   "outputs": [
    {
     "name": "stdout",
     "output_type": "stream",
     "text": [
      "************************************\n",
      "Found 39 courses matching \"docker\"\n",
      "************************************\n",
      "\n",
      "• AWS Fargate & ECS - Masterclass | Microservices, Docker, CFN\n",
      "• Amazon EKS Starter: Docker on AWS EKS with Kubernetes\n",
      "• Building microservices using asp.net core 5.0 and docker\n",
      "• Deploy Machine Learning & NLP Models with Dockers (DevOps)\n",
      "• Deploy Machine Learning Models on GCP + AWS Lambda (Docker)\n",
      "• DevOps Deployment Automation with Terraform, AWS and Docker\n",
      "• DevOps For Beginners - Docker, Kubernetes and Azure DevOps\n",
      "• DevOps Project: CI/CD with Jenkins Ansible Docker Kubernetes\n",
      "• Devops Fundamentals - CI/CD with AWS +Docker+Ansible+Jenkins\n",
      "• Docker & Kubernetes: The Practical Guide\n",
      "• Docker - Hands On for Java Developers\n",
      "• Docker - Introducing Docker Essentials, Containers, and more\n",
      "• Docker - SWARM - Hands-on - DevOps\n",
      "• Docker Certified Associate 2021\n",
      "• Docker Crash Course for busy DevOps and Developers\n",
      "• Docker Essentials for Python Developers\n",
      "• Docker Masterclass for Machine Learning and Data Science\n",
      "• Docker Mastery: with Kubernetes +Swarm from a Docker Captain\n",
      "• Docker Swarm Mastery: DevOps Style Cluster Orchestration\n",
      "• Docker and Kubernetes: The Complete Guide\n",
      "• Docker and Kubernetes: The Complete Reference\n",
      "• Docker for Java Developers\n",
      "• Docker for Java Spring Microservices - DevOps with Docker\n",
      "• Docker for Node.js Projects From a Docker Captain\n",
      "• Docker for the Absolute Beginner - Hands On - DevOps\n",
      "• Docker in AWS - Deploy Java Spring Boot to AWS Fargate & ECS\n",
      "• Docker on Windows 10 and Server 2016\n",
      "• Docker, From Zero To Hero: Become a DevOps Docker Master\n",
      "• Docker: A Beginner’s Guide From Container To Swarm\n",
      "• Docker: A Project-Based Approach to Learning\n",
      "• Kubernetes Mastery: Hands-On Lessons From A Docker Captain\n",
      "• Learn DevOps: CI/CD with Jenkins using Pipelines and Docker\n",
      "• Master Kubernetes with Docker on Google Cloud, AWS & Azure\n",
      "• Mastering Docker the devops way by School of Devops®\n",
      "• Mysql on Docker : On-Premise & AWS Cloud\n",
      "• Python REST APIs with Flask, Docker, MongoDB, and AWS DevOps\n",
      "• Selenium WebDriver with Docker, Jenkins & AWS\n",
      "• Understanding Docker and using it for Selenium automation\n",
      "• [NEW] Amazon ECS & Fargate Master Class - Docker on AWS\n"
     ]
    }
   ],
   "source": [
    "search_list_for_topic(\"docker\")"
   ]
  },
  {
   "cell_type": "code",
   "execution_count": 186,
   "id": "74f380a4",
   "metadata": {},
   "outputs": [
    {
     "name": "stdout",
     "output_type": "stream",
     "text": [
      "************************************\n",
      "Found 35 courses matching \"kube\"\n",
      "************************************\n",
      "\n",
      "• AWS EKS Kubernetes-Masterclass | DevOps, Microservices\n",
      "• Amazon EKS Starter: Docker on AWS EKS with Kubernetes\n",
      "• Azure Kubernetes Service - AKS\n",
      "• Azure Kubernetes Service with Azure DevOps and Terraform\n",
      "• Canary Deployments To Kubernetes Using Istio and Friends\n",
      "• Certified Kubernetes Administrator (CKA) with Practice Tests\n",
      "• Certified Kubernetes Administrator 2021\n",
      "• Certified Kubernetes Application Developer 2021\n",
      "• Certified Kubernetes Security Specialist (CKS)\n",
      "• Certified Kubernetes Security Specialist 2021\n",
      "• Complete Kubernetes Tutorial by School of Devops®\n",
      "• Continuous Deployments using Spinnaker on AWS and Kubernetes\n",
      "• DevOps For Beginners - Docker, Kubernetes and Azure DevOps\n",
      "• DevOps Project: CI/CD with Jenkins Ansible Docker Kubernetes\n",
      "• Docker & Kubernetes: The Practical Guide\n",
      "• Docker Mastery: with Kubernetes +Swarm from a Docker Captain\n",
      "• Docker and Kubernetes: The Complete Guide\n",
      "• Docker and Kubernetes: The Complete Reference\n",
      "• HELM - Package Manager for Kubernetes Complete Master Course\n",
      "• Istio Hands-On for Kubernetes\n",
      "• Kubernetes Certified Application Developer (CKAD) with Tests\n",
      "• Kubernetes Chaos Engineering With Chaos Toolkit And Istio\n",
      "• Kubernetes Hands-On - Deploy Microservices to the AWS Cloud\n",
      "• Kubernetes Made Easy: Learn Kubernetes From Scratch\n",
      "• Kubernetes Mastery: Hands-On Lessons From A Docker Captain\n",
      "• Kubernetes On The Cloud & The CNCF CKA Certification\n",
      "• Kubernetes for the Absolute Beginners - Hands-on\n",
      "• Learn DevOps: Advanced Kubernetes Usage\n",
      "• Learn DevOps: On-Prem or Cloud Agnostic Kubernetes\n",
      "• Learn DevOps: The Complete Kubernetes Course\n",
      "• Master Kubernetes with Docker on Google Cloud, AWS & Azure\n",
      "• Microsoft Azure Kubernetes Service Workshop\n",
      "• Project in DevOps: Jenkins CI/CD for Kubernetes Deployments\n",
      "• Rocking Kubernetes with Amazon EKS, Fargate, And DevOps\n",
      "• The Complete DevOps Engineer Course 2.0 - Java & Kubernetes\n"
     ]
    }
   ],
   "source": [
    "search_list_for_topic(\"kube\")"
   ]
  },
  {
   "cell_type": "code",
   "execution_count": 187,
   "id": "47127a5d",
   "metadata": {},
   "outputs": [
    {
     "name": "stdout",
     "output_type": "stream",
     "text": [
      "************************************\n",
      "Found 2 courses matching \"markdown\"\n",
      "************************************\n",
      "\n",
      "• Markdown Mastery: Simple yet Powerful Writing Format\n",
      "• Markdown: Learn to Write HTML-Ready Content in ANY Web Tool!\n"
     ]
    }
   ],
   "source": [
    "search_list_for_topic(\"markdown\")"
   ]
  },
  {
   "cell_type": "code",
   "execution_count": null,
   "id": "5eadbaa5",
   "metadata": {},
   "outputs": [],
   "source": []
  }
 ],
 "metadata": {
  "kernelspec": {
   "display_name": "Python 3",
   "language": "python",
   "name": "python3"
  },
  "language_info": {
   "codemirror_mode": {
    "name": "ipython",
    "version": 3
   },
   "file_extension": ".py",
   "mimetype": "text/x-python",
   "name": "python",
   "nbconvert_exporter": "python",
   "pygments_lexer": "ipython3",
   "version": "3.9.4"
  }
 },
 "nbformat": 4,
 "nbformat_minor": 5
}
