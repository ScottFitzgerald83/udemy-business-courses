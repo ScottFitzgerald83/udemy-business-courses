{
 "cells": [
  {
   "cell_type": "code",
   "execution_count": 1,
   "id": "c0e80b0a",
   "metadata": {},
   "outputs": [],
   "source": [
    "from io import StringIO\n",
    "\n",
    "from pdfminer.converter import TextConverter\n",
    "from pdfminer.layout import LAParams\n",
    "from pdfminer.pdfdocument import PDFDocument\n",
    "from pdfminer.pdfinterp import PDFResourceManager, PDFPageInterpreter\n",
    "from pdfminer.pdfpage import PDFPage\n",
    "from pdfminer.pdfparser import PDFParser\n",
    "\n",
    "import requests"
   ]
  },
  {
   "cell_type": "code",
   "execution_count": 2,
   "id": "1a55b815",
   "metadata": {},
   "outputs": [],
   "source": [
    "url = \"https://info.udemy.com/rs/udemy/images/UdemyforBusinessCourseList.pdf\"\n",
    "outfile = \"./UdemyForBusinessCourseList.pdf\""
   ]
  },
  {
   "cell_type": "code",
   "execution_count": 3,
   "id": "147ea636",
   "metadata": {},
   "outputs": [],
   "source": [
    "r = requests.get(url)\n"
   ]
  },
  {
   "cell_type": "code",
   "execution_count": 4,
   "id": "ad4f17fd",
   "metadata": {},
   "outputs": [],
   "source": [
    "with open(outfile, 'wb') as of:\n",
    "    of.write(r.content)"
   ]
  },
  {
   "cell_type": "code",
   "execution_count": 5,
   "id": "19702d1f",
   "metadata": {},
   "outputs": [],
   "source": [
    "output_string = StringIO()\n",
    "\n",
    "with open(outfile, 'rb') as in_file:\n",
    "    parser = PDFParser(in_file)\n",
    "    doc = PDFDocument(parser)\n",
    "    rsrcmgr = PDFResourceManager()\n",
    "    device = TextConverter(rsrcmgr, output_string, laparams=LAParams())\n",
    "    interpreter = PDFPageInterpreter(rsrcmgr, device)\n",
    "    for page in PDFPage.create_pages(doc):\n",
    "        interpreter.process_page(page)\n",
    "\n",
    "text = output_string.getvalue()"
   ]
  },
  {
   "cell_type": "code",
   "execution_count": 6,
   "id": "2292d94e",
   "metadata": {},
   "outputs": [
    {
     "name": "stdout",
     "output_type": "stream",
     "text": [
      "Found 5735 courses\n"
     ]
    }
   ],
   "source": [
    "course_list = []\n",
    "for line in text.split('\\n'):\n",
    "    if line.startswith(\"•\"):\n",
    "        sanitized_line = line.replace(\"•  \", \"\")\n",
    "        course_list.append(sanitized_line)\n",
    "print(f\"Found {len(course_list)} courses\")"
   ]
  },
  {
   "cell_type": "code",
   "execution_count": 7,
   "id": "cd4c1cf8",
   "metadata": {},
   "outputs": [],
   "source": [
    "def search_list_for_topic(search_term):\n",
    "    matches = []\n",
    "    for course in course_list:\n",
    "        if search_term.lower() in course.lower():\n",
    "            matches.append(course)\n",
    "    print(\"************************************\")\n",
    "    print(f'Found {len(matches)} courses matching \"{search_term}\"')\n",
    "    print(\"************************************\\n\")\n",
    "    for course in sorted(matches):\n",
    "        print(f\"• {course}\")"
   ]
  },
  {
   "cell_type": "code",
   "execution_count": 8,
   "id": "78acb548",
   "metadata": {
    "pycharm": {
     "name": "#%%\n"
    }
   },
   "outputs": [
    {
     "name": "stdout",
     "output_type": "stream",
     "text": [
      "************************************\n",
      "Found 28 courses matching \"spark\"\n",
      "************************************\n",
      "\n",
      "• A Big Data Hadoop and Spark project for absolute beginners\n",
      "• Apache Spark 2.0 with Java -Learn Spark from a Big Data Guru\n",
      "• Apache Spark 3 - Real-time Stream Processing using Python\n",
      "• Apache Spark 3 - Real-time Stream Processing using Scala\n",
      "• Apache Spark 3 - Spark Programming in Python for Beginners\n",
      "• Apache Spark 3 - Spark Programming in Scala for Beginners\n",
      "• Apache Spark for Java Developers\n",
      "• Apache Spark with Scala - Hands On with Big Data!\n",
      "• Big Data with Apache Spark and AWS\n",
      "• CCA 131 - Cloudera Certified Hadoop and Spark Administrator\n",
      "• CCA 175 - Spark and Hadoop Developer - Python (pyspark)\n",
      "• CCA 175 - Spark and Hadoop Developer Certification - Scala\n",
      "• CCA 175 Spark and Hadoop Developer - Practice Tests\n",
      "• Databricks Essentials for Spark Developers (Azure and AWS)\n",
      "• From 0 to 1 : Spark for Data Science with Python\n",
      "• HDPCD:Spark using Scala\n",
      "• Master Apache Spark - Hands On!\n",
      "• Master Big Data - Apache Spark/Hadoop/Sqoop/Hive/Flume\n",
      "• Real-time Credit card Fraud Detection using Spark 2.2\n",
      "• Scala and Spark for Big Data and Machine Learning\n",
      "• Scalable programming with Scala and Spark\n",
      "• Spark 3.0 & Big Data Essentials with Scala | Rock the JVM\n",
      "• Spark Project on Cloudera Hadoop(CDH) and GCP for Beginners\n",
      "• Spark Scala coding framework, testing, Structured streaming\n",
      "• Spark Streaming 3.0 with Scala | Rock the JVM\n",
      "• Spark and Python for Big Data with PySpark\n",
      "• Streaming Big Data with Spark Streaming and Scala - Hands On\n",
      "• Taming Big Data with Apache Spark and Python - Hands On!\n"
     ]
    }
   ],
   "source": [
    "search_list_for_topic(\"spark\")"
   ]
  },
  {
   "cell_type": "code",
   "execution_count": 9,
   "outputs": [
    {
     "name": "stdout",
     "output_type": "stream",
     "text": [
      "************************************\n",
      "Found 21 courses matching \"git \"\n",
      "************************************\n",
      "\n",
      "• Azure DevOps Repos with GIT and Visual Studio for Developers\n",
      "• Command Line Essentials: Git Bash for Windows\n",
      "• Complete Git Guide: Understand and master Git and GitHub\n",
      "• Get Git Smart Course: Learn Git in Unity, SourceTree, GitHub\n",
      "• Git & GitHub Complete Masterclass : Beginner to Git Expert\n",
      "• Git & GitHub Crash Course: Create a Repository From Scratch!\n",
      "• Git & GitHub Masterclass\n",
      "• Git & GitHub with Eclipse, Android studio & IntelliJ\n",
      "• Git Complete: The definitive, step-by-step guide to Git\n",
      "• Git Essentials: Learn Git with Bitbucket and Sourcetree\n",
      "• Git Going Fast: One Hour Git Crash Course\n",
      "• Git Going with Comparing, Branching and Merging\n",
      "• Git a Web Developer Job: Mastering the Modern Workflow\n",
      "• Git and GitHub for Writers\n",
      "• Git by Example\n",
      "• Git for Geeks: Quick Git Training for Developers\n",
      "• Git for Windows: Step-By-Step Mastery using Commands and GUI\n",
      "• GitHub Ultimate: Master Git and GitHub - Beginner to Expert\n",
      "• Learn Git by Doing: A step-by-step guide to version control\n",
      "• Robot Framework - Jenkins CI & Git Version Control\n",
      "• The Git & Github Bootcamp\n"
     ]
    }
   ],
   "source": [
    "search_list_for_topic(\"git \")"
   ],
   "metadata": {
    "collapsed": false,
    "pycharm": {
     "name": "#%%\n"
    }
   }
  },
  {
   "cell_type": "code",
   "execution_count": 10,
   "outputs": [
    {
     "name": "stdout",
     "output_type": "stream",
     "text": [
      "************************************\n",
      "Found 14 courses matching \"kafka\"\n",
      "************************************\n",
      "\n",
      "• Apache Kafka - Real-time Stream Processing (Master Class)\n",
      "• Apache Kafka Series - Confluent Schema Registry & REST Proxy\n",
      "• Apache Kafka Series - KSQL on ksqlDB for Stream Processing !\n",
      "• Apache Kafka Series - Kafka Cluster Setup & Administration\n",
      "• Apache Kafka Series - Kafka Connect Hands-on Learning\n",
      "• Apache Kafka Series - Kafka Monitoring & Operations\n",
      "• Apache Kafka Series - Kafka Security | SSL SASL Kerberos ACL\n",
      "• Apache Kafka Series - Kafka Streams for Data Processing\n",
      "• Apache Kafka Series - Learn Apache Kafka for Beginners v2\n",
      "• Apache Kafka for Developers using Spring Boot[LatestEdition]\n",
      "• Apache Kafka for absolute beginners\n",
      "• CCDAK Confluent Certified Developer for Apache Kafka TESTS\n",
      "• CCOAK Confluent Certified Operator for Apache Kafka PRACTICE\n",
      "• Kafka & Kafka Stream With Java Spring Boot - Hands-on Coding\n"
     ]
    }
   ],
   "source": [
    "search_list_for_topic(\"kafka\")"
   ],
   "metadata": {
    "collapsed": false,
    "pycharm": {
     "name": "#%%\n"
    }
   }
  },
  {
   "cell_type": "code",
   "execution_count": 10,
   "outputs": [],
   "source": [],
   "metadata": {
    "collapsed": false,
    "pycharm": {
     "name": "#%%\n"
    }
   }
  }
 ],
 "metadata": {
  "kernelspec": {
   "display_name": "Python 3",
   "language": "python",
   "name": "python3"
  },
  "language_info": {
   "codemirror_mode": {
    "name": "ipython",
    "version": 3
   },
   "file_extension": ".py",
   "mimetype": "text/x-python",
   "name": "python",
   "nbconvert_exporter": "python",
   "pygments_lexer": "ipython3",
   "version": "3.9.4"
  }
 },
 "nbformat": 4,
 "nbformat_minor": 5
}